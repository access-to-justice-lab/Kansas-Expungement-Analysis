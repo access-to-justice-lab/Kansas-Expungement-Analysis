{
 "cells": [
  {
   "cell_type": "code",
   "execution_count": null,
   "id": "17bcdab5",
   "metadata": {},
   "outputs": [],
   "source": [
    "import pymysql\n",
    "import pprint\n",
    "import pandas as pd\n",
    "import sys,os\n",
    "import passwords\n",
    "\n",
    "mysqlip = passwords.mysqlip\n",
    "mysqlpassword = passwords.mysqlpassword\n",
    "mysqlusername = passwords.mysqlusername\n",
    "mysqldb = passwords.mysqldb\n",
    "mysqldb = 'joco2022'\n",
    "\n",
    "pp = pprint.PrettyPrinter(indent=4)"
   ]
  },
  {
   "cell_type": "code",
   "execution_count": null,
   "id": "d3887212",
   "metadata": {},
   "outputs": [],
   "source": [
    "def sendSQLCommand(sql):\n",
    "    try:\n",
    "        cursor = connection.cursor()\n",
    "        cursor.execute(sql)\n",
    "        dockets = cursor.fetchall()\n",
    "        cursor.close()\n",
    "        return dockets\n",
    "    except Exception as e:\n",
    "        print(e)\n",
    "        exc_type, exc_obj, exc_tb = sys.exc_info()\n",
    "        fname = os.path.split(exc_tb.tb_frame.f_code.co_filename)[1]\n",
    "        print(exc_type, fname, exc_tb.tb_lineno)\n",
    "        return None\n",
    "\n"
   ]
  },
  {
   "cell_type": "code",
   "execution_count": null,
   "id": "a4d98d3b",
   "metadata": {},
   "outputs": [],
   "source": [
    "sql = '''\n",
    "SET sql_mode = 'STRICT_TRANS_TABLES,NO_ZERO_IN_DATE,NO_ZERO_DATE,ERROR_FOR_DIVISION_BY_ZERO,NO_ENGINE_SUBSTITUTION';\n",
    "'''\n",
    "\n",
    "connection = pymysql.connect(host=mysqlip,\n",
    "                             user=mysqlusername,\n",
    "                             password=mysqlpassword,\n",
    "                             db=mysqldb,\n",
    "                             charset='utf8mb4',\n",
    "                             cursorclass=pymysql.cursors.DictCursor)\n",
    "answer = sendSQLCommand(sql)"
   ]
  },
  {
   "cell_type": "code",
   "execution_count": null,
   "id": "43ecde78",
   "metadata": {},
   "outputs": [],
   "source": [
    "#Total Cases in Each County\n",
    "sql = \"SELECT Court as County,COUNT(*) as Cases FROM kansas2022.case_information GROUP BY County UNION SELECT 'Johnson County' as County,COUNT(*) as Cases FROM joco2022.caseinfo\"\n",
    "answer = sendSQLCommand(sql)\n",
    "print(answer)\n",
    "for ta in answer:\n",
    "    ta['County'] = ta['County'].replace(\"County\",\"\")\n",
    "df = pd.DataFrame(answer)\n",
    "display(df.sort_values(by=['Cases'],ascending=False).head(10))\n",
    "title = 'Top Ten Jurisdictions with the Most Criminal Cases'\n",
    "temp = df.sort_values(by=['Cases'],ascending=False).head(10).plot(kind=\"bar\",x='County',ylabel=\"Amount of Cases\",title=title)\n",
    "\n",
    "temp.figure.savefig(\"Graphs/\" + title +\".png\",bbox_inches=\"tight\")"
   ]
  },
  {
   "cell_type": "code",
   "execution_count": null,
   "id": "f8685bb8",
   "metadata": {},
   "outputs": [],
   "source": [
    "#Total Cases in Joco and Non Joco\n",
    "sql = \"SELECT 'Non-Johnson County' as County, COUNT(*) as Cases FROM kansas2022.case_information UNION SELECT 'Johnson County' as County,COUNT(*) FROM joco2022.caseinfo\"\n",
    "answer = sendSQLCommand(sql)\n",
    "df = pd.DataFrame(answer)\n",
    "display(df.sort_values(by=['Cases'],ascending=False).head(5))\n",
    "title = 'Criminal Case Count Aggregating Courts Outside of Johnson County'\n",
    "temp = df.sort_values(by=['Cases'],ascending=False).head(5).plot(kind=\"bar\",x='County',ylabel=\"Amount of Cases\",title=title)\n",
    "temp.figure.savefig(\"Graphs/\" + title + \".png\",bbox_inches=\"tight\")"
   ]
  },
  {
   "cell_type": "code",
   "execution_count": null,
   "id": "81e5df38",
   "metadata": {},
   "outputs": [],
   "source": [
    "#Johnson County Cases By Year\n",
    "sql = '''\n",
    "SELECT YEAR(date) as 'Filing Date',COUNT(*) as Cases FROM (SELECT date from joco2022.charges WHERE date is not NULL GROUP BY casenumber) as temp GROUP BY YEAR(date) ORDER BY YEAR(date) desc\n",
    "'''\n",
    "answer = sendSQLCommand(sql)\n",
    "newanswer = []\n",
    "for temp in answer:\n",
    "    newanswer.append({'Filing Date':str(temp['Filing Date']),'Cases':temp['Cases']})\n",
    "df = pd.DataFrame(newanswer)\n",
    "df['Filing Date'] = df['Filing Date'].astype(int)\n",
    "df = df.loc[(df[\"Filing Date\"] >= 1991)]\n",
    "display(df.sort_values('Filing Date',ascending=True).head(30))\n",
    "title = 'Criminal Cases in Johnson County By Filing Date'\n",
    "temp = df.sort_values(by=['Filing Date'],ascending=True).head(30).plot(kind=\"bar\",x='Filing Date',xlabel = 'Filing Year',ylabel=\"Amount of Cases\",title=title)\n",
    "temp.figure.savefig(\"Graphs/\" + title +\".png\",bbox_inches=\"tight\")\n",
    "\n",
    "# Non Johnson County Cases By Year\n",
    "sql = '''\n",
    "SELECT COUNT(*) as Cases,YEAR(`File Date`) as 'Filing Date' FROM kansas2022.case_information GROUP BY YEAR(`File Date`) ORDER by YEAR(`File Date`) DESC\n",
    "'''\n",
    "answer = sendSQLCommand(sql)\n",
    "newanswer = []\n",
    "for temp in answer:\n",
    "    newanswer.append({'Filing Date':str(temp['Filing Date']),'Cases':temp['Cases']})\n",
    "df = pd.DataFrame(newanswer)\n",
    "df['Filing Date'] = df['Filing Date'].astype(int)\n",
    "df = df.loc[(df[\"Filing Date\"] >= 1991)]\n",
    "display(df.sort_values('Filing Date',ascending=True).head(30))\n",
    "title = 'Criminal Cases in Non-Johnson County By Filing Date'\n",
    "temp = df.sort_values(by=['Filing Date'],ascending=True).head(30).plot(kind=\"bar\",x='Filing Date',xlabel = 'Filing Year',ylabel=\"Amount of Cases\",title=title)\n",
    "temp.figure.savefig(\"Graphs/\" + title + \".png\",bbox_inches=\"tight\")"
   ]
  },
  {
   "cell_type": "code",
   "execution_count": null,
   "id": "493b41da",
   "metadata": {},
   "outputs": [],
   "source": [
    "#Charges By Disposition\n",
    "sql = '''\n",
    "SELECT Disposition,COUNT(*) as Dispositions FROM kansas2022.disposition_events WHERE `Event Type` = ' Disposition' GROUP BY Disposition \n",
    "UNION \n",
    "SELECT finding as Disposition,COUNT(*) as Dispositions FROM joco2022.charges GROUP BY finding'''\n",
    "answer = sendSQLCommand(sql)\n",
    "df = pd.DataFrame(answer)\n",
    "display(df.sort_values('Dispositions',ascending=False).head(50))\n",
    "newanswer = []\n",
    "guilties = 0\n",
    "dismisbypros = 0\n",
    "for temp in answer:\n",
    "    if(temp['Disposition'] != None and temp['Disposition'].upper() == 'GUILTY'):\n",
    "        guilties += temp['Dispositions']\n",
    "    elif(temp['Disposition'] != None and (temp['Disposition'].upper() == 'DISMISS BY PROS' or temp['Disposition'] == 'Dismissed by Prosecutor')):\n",
    "        dismisbypros += temp['Dispositions']\n",
    "    else:\n",
    "        newanswer.append(temp)\n",
    "newanswer.append({'Disposition':'Guilty','Dispositions':guilties})\n",
    "newanswer.append({'Disposition':'Dismissed by Prosecution','Dispositions':dismisbypros}) \n",
    "\n",
    "df = pd.DataFrame(newanswer)\n",
    "display(df.sort_values('Dispositions',ascending=False).head(10))\n",
    "title = 'Top Ten Dispositions'\n",
    "temp = df.sort_values(by=['Dispositions'],ascending=False).head(10).plot(kind=\"bar\",x='Disposition',title=title,ylabel=\"Amount of Dispositions\")\n",
    "temp.figure.savefig(\"Graphs/\" + title + \".png\",bbox_inches=\"tight\")"
   ]
  },
  {
   "cell_type": "code",
   "execution_count": null,
   "id": "dfbe851e",
   "metadata": {},
   "outputs": [],
   "source": []
  }
 ],
 "metadata": {
  "kernelspec": {
   "display_name": "Python 3",
   "language": "python",
   "name": "python3"
  },
  "language_info": {
   "codemirror_mode": {
    "name": "ipython",
    "version": 3
   },
   "file_extension": ".py",
   "mimetype": "text/x-python",
   "name": "python",
   "nbconvert_exporter": "python",
   "pygments_lexer": "ipython3",
   "version": "3.7.3"
  }
 },
 "nbformat": 4,
 "nbformat_minor": 5
}
